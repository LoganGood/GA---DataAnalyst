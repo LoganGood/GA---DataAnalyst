{
 "cells": [
  {
   "cell_type": "markdown",
   "metadata": {
    "collapsed": false,
    "jupyter": {
     "outputs_hidden": false
    }
   },
   "source": [
    "## User Story:\n",
    "The IT department of _**Plain Corp**_ has implemented a custom-built _Computer Management Solution (CMS)_ which comes with a feature that reports information about computers in their environment such as metadata, installed programs and logins. The current problem faced by the IT team is that the reports created by CMS do not answer all the questions they have about the computers in their environment. Luckily, they figured out that the CMS stores its raw data in a SQLite (v3.45.0)  _database (DB)_ file and that they could write custom SQL queries to report the information not provided within the CMS reports.\n",
    "\n",
    "## Goal:\n",
    "Your job will be to update this Jupyter Notebook with the SQL queries needed to meet the IT team’s reporting needs. It is recommended to use a Database IDE to help with query writing and data exploration.\n",
    "\n",
    "## Directions:\n",
    "Download the attached zip file which contains all the files you need to complete this assignment. Below is a description of each of the three files within the attached zip file:\n",
    "- **cms.sqlite**: The database you must query from to complete this assignment.\n",
    "- **cms_data_dictionary.txt**: A data dictionary describing the tables within this database.\n",
    "- **GA Mission - Data Analyst.ipynb**: The Jupyter Notebook file you must update to complete the assignment. Rules to abide by while completing this assignment are listed within this Jupyter Notebook.\n",
    "\n",
    "## Our Expectations\n",
    "This assignment <ins>**should take you no longer than 2 hours**</ins> to complete. Make sure your outputs are visible in a web browser when uploaded to a public repository and that they are presented in a way that is understandable by someone with some technical experience but no programming experience. Extra rules to abide by are described in the included Juptyter Notebook file.\n",
    "\n",
    "We would prefer that you share the code with us by pushing it to a public repository in the hosting provider of your choosing. If you do not want to upload it to a public repository then you can zip up the repository folder on your machine and send it to us via email. If you go that route, please make sure that the .git folder is included.\n",
    "\n",
    "We recommend  that you use a Database IDE (e.g., DBeaver, Datagrip, etc.) to assist with query writing and data exploration. If you have any questions, please contact us and we will do our best to clarify anything that is unclear.\n",
    "\n",
    "## Rules:\n",
    "- The code should be stored in a git repository.\n",
    "- With the exception of ***Pandas***, you can use any Python Packages you like.\n",
    "- Do not edit the data in the **cms.sqlite** DB file.\n",
    "- Your query results must be output in a _Pandas DataFrame (PD)_.\n",
    "- Questions 4 and 5 are written answer questions where no code or SQL is necessary.\n",
    "- Question 6 is a written answer question that may require code or SQL depending on your answer. This question can be thought of as a chance to share any observations you've made or perform a light EDA on the data. There are no right or wrong answers for this question."
   ]
  },
  {
   "cell_type": "markdown",
   "metadata": {
    "collapsed": false,
    "jupyter": {
     "outputs_hidden": false
    }
   },
   "source": [
    "# Questions"
   ]
  },
  {
   "cell_type": "code",
   "execution_count": 219,
   "metadata": {
    "collapsed": false,
    "is_executing": true,
    "jupyter": {
     "outputs_hidden": false
    }
   },
   "outputs": [],
   "source": [
    "import pandas as pd;\n",
    "import sqlite3 as sqlite;\n",
    "from IPython.display import display, HTML"
   ]
  },
  {
   "cell_type": "markdown",
   "metadata": {
    "collapsed": false,
    "jupyter": {
     "outputs_hidden": false
    }
   },
   "source": [
    " <font size='5'> 1. Count how many Admin and Regular computers are in the database.</font>"
   ]
  },
  {
   "cell_type": "code",
   "execution_count": 222,
   "metadata": {
    "ExecuteTime": {
     "end_time": "2024-01-25T16:23:26.526380800Z",
     "start_time": "2024-01-25T16:23:26.513025400Z"
    },
    "collapsed": false,
    "jupyter": {
     "outputs_hidden": false
    }
   },
   "outputs": [
    {
     "data": {
      "text/html": [
       "<div>\n",
       "<style scoped>\n",
       "    .dataframe tbody tr th:only-of-type {\n",
       "        vertical-align: middle;\n",
       "    }\n",
       "\n",
       "    .dataframe tbody tr th {\n",
       "        vertical-align: top;\n",
       "    }\n",
       "\n",
       "    .dataframe thead th {\n",
       "        text-align: right;\n",
       "    }\n",
       "</style>\n",
       "<table border=\"1\" class=\"dataframe\">\n",
       "  <thead>\n",
       "    <tr style=\"text-align: right;\">\n",
       "      <th></th>\n",
       "      <th>computer_type</th>\n",
       "      <th>Count</th>\n",
       "    </tr>\n",
       "  </thead>\n",
       "  <tbody>\n",
       "    <tr>\n",
       "      <th></th>\n",
       "      <td>Admin</td>\n",
       "      <td>8</td>\n",
       "    </tr>\n",
       "    <tr>\n",
       "      <th></th>\n",
       "      <td>Regular</td>\n",
       "      <td>24</td>\n",
       "    </tr>\n",
       "  </tbody>\n",
       "</table>\n",
       "</div>"
      ],
      "text/plain": [
       " computer_type  Count\n",
       "         Admin      8\n",
       "       Regular     24"
      ]
     },
     "metadata": {},
     "output_type": "display_data"
    }
   ],
   "source": [
    "con = sqlite.connect(\"OneDrive/Documents/Galactic/cms.sqlite\")\n",
    "df = pd.read_sql_query(\"SELECT computer_type, COUNT(computer_type) AS [Count]\" +\n",
    "                       \"FROM (SELECT DISTINCT computer_name, computer_type FROM computers)\" +\n",
    "                       \"WHERE computer_type = 'Admin' OR computer_type = 'Regular'\" +\n",
    "                       \"GROUP BY computer_type;\", con)\n",
    "blankIndex=[''] * len(df)\n",
    "df.index=blankIndex\n",
    "display(df)"
   ]
  },
  {
   "cell_type": "markdown",
   "metadata": {
    "collapsed": false,
    "jupyter": {
     "outputs_hidden": false
    }
   },
   "source": [
    "<font size='5'>2a. Identify all non-admin computers with the programs **Bitwarden**, **Quickpass** or **1password** installed, please note that the listed program names may not match exactly to the program names in the database. Be sure to include the computer names, operating system, program names and program version in the PD output.</font>"
   ]
  },
  {
   "cell_type": "code",
   "execution_count": 225,
   "metadata": {
    "ExecuteTime": {
     "end_time": "2024-01-25T16:23:26.569293100Z",
     "start_time": "2024-01-25T16:23:26.528381300Z"
    },
    "collapsed": false,
    "jupyter": {
     "outputs_hidden": false
    }
   },
   "outputs": [
    {
     "name": "stdout",
     "output_type": "stream",
     "text": [
      "Provided is the list of non admin computers, their operating systems, and targeted programs found on said computers along with program version.\n"
     ]
    },
    {
     "data": {
      "text/html": [
       "<div>\n",
       "<style scoped>\n",
       "    .dataframe tbody tr th:only-of-type {\n",
       "        vertical-align: middle;\n",
       "    }\n",
       "\n",
       "    .dataframe tbody tr th {\n",
       "        vertical-align: top;\n",
       "    }\n",
       "\n",
       "    .dataframe thead th {\n",
       "        text-align: right;\n",
       "    }\n",
       "</style>\n",
       "<table border=\"1\" class=\"dataframe\">\n",
       "  <thead>\n",
       "    <tr style=\"text-align: right;\">\n",
       "      <th></th>\n",
       "      <th>computer_name</th>\n",
       "      <th>computer_type</th>\n",
       "      <th>operating_system</th>\n",
       "      <th>program_name</th>\n",
       "      <th>program_version</th>\n",
       "    </tr>\n",
       "  </thead>\n",
       "  <tbody>\n",
       "    <tr>\n",
       "      <th></th>\n",
       "      <td>DESKTOP-O23A1M7</td>\n",
       "      <td>Service</td>\n",
       "      <td>Microsoft Windows 11 Pro</td>\n",
       "      <td>Quickpass</td>\n",
       "      <td>15.0.21225.01</td>\n",
       "    </tr>\n",
       "    <tr>\n",
       "      <th></th>\n",
       "      <td>LAPTOP-55433J3D</td>\n",
       "      <td>Regular</td>\n",
       "      <td>Microsoft Windows 11 Business</td>\n",
       "      <td>Quickpass</td>\n",
       "      <td>15.0.21225.01</td>\n",
       "    </tr>\n",
       "    <tr>\n",
       "      <th></th>\n",
       "      <td>PLAINCORP-1012</td>\n",
       "      <td>Regular</td>\n",
       "      <td>Microsoft Windows 11 Pro</td>\n",
       "      <td>1password</td>\n",
       "      <td>2.7.4</td>\n",
       "    </tr>\n",
       "    <tr>\n",
       "      <th></th>\n",
       "      <td>PLAINCORP-1014</td>\n",
       "      <td>Regular</td>\n",
       "      <td>Microsoft Windows 11 Business</td>\n",
       "      <td>1password</td>\n",
       "      <td>2.7.4</td>\n",
       "    </tr>\n",
       "    <tr>\n",
       "      <th></th>\n",
       "      <td>PLAINCORP-DRAKE</td>\n",
       "      <td>Regular</td>\n",
       "      <td>Microsoft Windows 11 Pro</td>\n",
       "      <td>Quickpass</td>\n",
       "      <td>15.0.21225.01</td>\n",
       "    </tr>\n",
       "    <tr>\n",
       "      <th></th>\n",
       "      <td>PLAINCORP-WILL-P</td>\n",
       "      <td>Regular</td>\n",
       "      <td>Microsoft Windows 11 Business</td>\n",
       "      <td>Quickpass</td>\n",
       "      <td>15.0.21225.01</td>\n",
       "    </tr>\n",
       "    <tr>\n",
       "      <th></th>\n",
       "      <td>Testers-Mac-mini</td>\n",
       "      <td>Regular</td>\n",
       "      <td>macOS 14.0 (23A344)</td>\n",
       "      <td>/Applications/Bitwarden.app</td>\n",
       "      <td>2023.1.1</td>\n",
       "    </tr>\n",
       "    <tr>\n",
       "      <th></th>\n",
       "      <td>Testers-Mini</td>\n",
       "      <td>Regular</td>\n",
       "      <td>macOS 13.3.1 (a) (22E772610a)</td>\n",
       "      <td>/Applications/Bitwarden.app</td>\n",
       "      <td>2023.1.1</td>\n",
       "    </tr>\n",
       "    <tr>\n",
       "      <th></th>\n",
       "      <td>WINDEV2303EVAL</td>\n",
       "      <td>Service</td>\n",
       "      <td>Microsoft Windows 11 Enterprise Evaluation</td>\n",
       "      <td>Quickpass</td>\n",
       "      <td>15.0.21225.01</td>\n",
       "    </tr>\n",
       "    <tr>\n",
       "      <th></th>\n",
       "      <td>ZPPLAINCORP-MAC</td>\n",
       "      <td>Regular</td>\n",
       "      <td>macOS 13.2 (22D49)</td>\n",
       "      <td>/Applications/Bitwarden.app</td>\n",
       "      <td>2023.1.1</td>\n",
       "    </tr>\n",
       "  </tbody>\n",
       "</table>\n",
       "</div>"
      ],
      "text/plain": [
       "     computer_name computer_type                            operating_system  \\\n",
       "   DESKTOP-O23A1M7       Service                    Microsoft Windows 11 Pro   \n",
       "   LAPTOP-55433J3D       Regular               Microsoft Windows 11 Business   \n",
       "    PLAINCORP-1012       Regular                    Microsoft Windows 11 Pro   \n",
       "    PLAINCORP-1014       Regular               Microsoft Windows 11 Business   \n",
       "   PLAINCORP-DRAKE       Regular                    Microsoft Windows 11 Pro   \n",
       "  PLAINCORP-WILL-P       Regular               Microsoft Windows 11 Business   \n",
       "  Testers-Mac-mini       Regular                         macOS 14.0 (23A344)   \n",
       "      Testers-Mini       Regular               macOS 13.3.1 (a) (22E772610a)   \n",
       "    WINDEV2303EVAL       Service  Microsoft Windows 11 Enterprise Evaluation   \n",
       "   ZPPLAINCORP-MAC       Regular                          macOS 13.2 (22D49)   \n",
       "\n",
       "                 program_name program_version  \n",
       "                    Quickpass   15.0.21225.01  \n",
       "                    Quickpass   15.0.21225.01  \n",
       "                    1password           2.7.4  \n",
       "                    1password           2.7.4  \n",
       "                    Quickpass   15.0.21225.01  \n",
       "                    Quickpass   15.0.21225.01  \n",
       "  /Applications/Bitwarden.app        2023.1.1  \n",
       "  /Applications/Bitwarden.app        2023.1.1  \n",
       "                    Quickpass   15.0.21225.01  \n",
       "  /Applications/Bitwarden.app        2023.1.1  "
      ]
     },
     "metadata": {},
     "output_type": "display_data"
    }
   ],
   "source": [
    "df = pd.read_sql_query(\"SELECT c.computer_name, c.computer_type, c.operating_system, ip.program_name, ip.program_version\" + \n",
    "    \" FROM computers c\" +\n",
    "    \" INNER JOIN installed_programs ip ON c.computer_name = ip.computer_name\" +\n",
    "    \" AND c.computer_type != 'Admin'\" +\n",
    "    \" AND (ip.program_name LIKE  '%bitwarden%'\" +\n",
    "    \t\" OR ip.program_name LIKE '%quickpass%'\" +\n",
    "    \t\" OR ip.program_name LIKE '%1password%')\" +\n",
    "    \"GROUP BY c.computer_name\", con)\n",
    "blankIndex=[''] * len(df)\n",
    "df.index=blankIndex\n",
    "print(\"Provided is the list of non admin computers, their operating systems, and targeted programs found on said computers along with program version.\")\n",
    "display(df)"
   ]
  },
  {
   "cell_type": "markdown",
   "metadata": {
    "collapsed": false,
    "jupyter": {
     "outputs_hidden": false
    }
   },
   "source": [
    "<font size='5'>2b. Report the latest version of each program and how many computers have said programs installed.</font>"
   ]
  },
  {
   "cell_type": "code",
   "execution_count": 228,
   "metadata": {
    "ExecuteTime": {
     "end_time": "2024-01-25T16:23:26.569293100Z",
     "start_time": "2024-01-25T16:23:26.544105Z"
    },
    "collapsed": false,
    "jupyter": {
     "outputs_hidden": false
    }
   },
   "outputs": [
    {
     "name": "stdout",
     "output_type": "stream",
     "text": [
      "Since this question builds off of part A, I have elected to only show the results for the targeted programs in part A\n"
     ]
    },
    {
     "data": {
      "text/html": [
       "<div>\n",
       "<style scoped>\n",
       "    .dataframe tbody tr th:only-of-type {\n",
       "        vertical-align: middle;\n",
       "    }\n",
       "\n",
       "    .dataframe tbody tr th {\n",
       "        vertical-align: top;\n",
       "    }\n",
       "\n",
       "    .dataframe thead th {\n",
       "        text-align: right;\n",
       "    }\n",
       "</style>\n",
       "<table border=\"1\" class=\"dataframe\">\n",
       "  <thead>\n",
       "    <tr style=\"text-align: right;\">\n",
       "      <th></th>\n",
       "      <th>program_name</th>\n",
       "      <th>program_version</th>\n",
       "      <th>computer_count</th>\n",
       "    </tr>\n",
       "  </thead>\n",
       "  <tbody>\n",
       "    <tr>\n",
       "      <th>0</th>\n",
       "      <td>/Applications/Bitwarden.app</td>\n",
       "      <td>2023.1.1</td>\n",
       "      <td>3</td>\n",
       "    </tr>\n",
       "    <tr>\n",
       "      <th>1</th>\n",
       "      <td>1password</td>\n",
       "      <td>2.7.4</td>\n",
       "      <td>2</td>\n",
       "    </tr>\n",
       "    <tr>\n",
       "      <th>2</th>\n",
       "      <td>Quickpass</td>\n",
       "      <td>15.0.21225.01</td>\n",
       "      <td>22</td>\n",
       "    </tr>\n",
       "  </tbody>\n",
       "</table>\n",
       "</div>"
      ],
      "text/plain": [
       "                  program_name program_version  computer_count\n",
       "0  /Applications/Bitwarden.app        2023.1.1               3\n",
       "1                    1password           2.7.4               2\n",
       "2                    Quickpass   15.0.21225.01              22"
      ]
     },
     "metadata": {},
     "output_type": "display_data"
    }
   ],
   "source": [
    "df = pd.read_sql_query(\"SELECT ip.program_name, ip.program_version, COUNT(ip.computer_name) AS computer_count\" +\n",
    "\" FROM installed_programs ip\" +\n",
    "\" INNER JOIN (SELECT program_name, MAX(program_version) AS max_version\" +\n",
    "\t\" FROM installed_programs\" +\n",
    "\t\" GROUP BY program_name) ip2 ON ip.program_name = ip2.program_name AND ip.program_version = ip2.max_version\" +\n",
    "    \" AND (ip.program_name LIKE  '%bitwarden%'\" +\n",
    "    \t\" OR ip.program_name LIKE '%quickpass%'\" +\n",
    "    \t\" OR ip.program_name LIKE '%1password%')\" +\n",
    "\t\" GROUP BY ip.program_name\" , con)\n",
    "print(\"Since this question builds off of part A, I have elected to only show the results for the targeted programs in part A\")\n",
    "display(df)"
   ]
  },
  {
   "cell_type": "markdown",
   "metadata": {
    "collapsed": false,
    "jupyter": {
     "outputs_hidden": false
    }
   },
   "source": [
    "<font size='5'> 2c. Report each program and the ratio of which computers out of all computers have said programs installed. Express the ratio in the format of “**X** out of **Y**“ computers and as a percentage rounded to the 2nd. Hint: To calculate the percentage, you will have to cast one of the numbers to a decimal by multiplying them by **1.0**.</font>"
   ]
  },
  {
   "cell_type": "code",
   "execution_count": 231,
   "metadata": {
    "ExecuteTime": {
     "end_time": "2024-01-25T16:23:26.575229100Z",
     "start_time": "2024-01-25T16:23:26.559692900Z"
    },
    "collapsed": false,
    "jupyter": {
     "outputs_hidden": false
    }
   },
   "outputs": [
    {
     "name": "stdout",
     "output_type": "stream",
     "text": [
      "38\n"
     ]
    },
    {
     "data": {
      "text/html": [
       "<div>\n",
       "<style scoped>\n",
       "    .dataframe tbody tr th:only-of-type {\n",
       "        vertical-align: middle;\n",
       "    }\n",
       "\n",
       "    .dataframe tbody tr th {\n",
       "        vertical-align: top;\n",
       "    }\n",
       "\n",
       "    .dataframe thead th {\n",
       "        text-align: right;\n",
       "    }\n",
       "</style>\n",
       "<table border=\"1\" class=\"dataframe\">\n",
       "  <thead>\n",
       "    <tr style=\"text-align: right;\">\n",
       "      <th></th>\n",
       "      <th>program_name</th>\n",
       "      <th>computer_count</th>\n",
       "      <th>total_count</th>\n",
       "      <th>ratio</th>\n",
       "      <th>percentage %</th>\n",
       "    </tr>\n",
       "  </thead>\n",
       "  <tbody>\n",
       "    <tr>\n",
       "      <th></th>\n",
       "      <td>/Applications/Bitwarden.app</td>\n",
       "      <td>3</td>\n",
       "      <td>38</td>\n",
       "      <td>3 out of 38 computers</td>\n",
       "      <td>7.89</td>\n",
       "    </tr>\n",
       "    <tr>\n",
       "      <th></th>\n",
       "      <td>1password</td>\n",
       "      <td>2</td>\n",
       "      <td>38</td>\n",
       "      <td>2 out of 38 computers</td>\n",
       "      <td>5.26</td>\n",
       "    </tr>\n",
       "    <tr>\n",
       "      <th></th>\n",
       "      <td>Quickpass</td>\n",
       "      <td>22</td>\n",
       "      <td>38</td>\n",
       "      <td>22 out of 38 computers</td>\n",
       "      <td>57.89</td>\n",
       "    </tr>\n",
       "  </tbody>\n",
       "</table>\n",
       "</div>"
      ],
      "text/plain": [
       "                 program_name  computer_count  total_count  \\\n",
       "  /Applications/Bitwarden.app               3           38   \n",
       "                    1password               2           38   \n",
       "                    Quickpass              22           38   \n",
       "\n",
       "                   ratio  percentage %  \n",
       "   3 out of 38 computers          7.89  \n",
       "   2 out of 38 computers          5.26  \n",
       "  22 out of 38 computers         57.89  "
      ]
     },
     "metadata": {},
     "output_type": "display_data"
    }
   ],
   "source": [
    "df2 = pd.read_sql_query(\"select COUNT(computer_name) AS computer_count FROM computers\" , con)\n",
    "pd.to_numeric(df.computer_count)\n",
    "pd.to_numeric(df2.computer_count)\n",
    "df.drop('program_version', axis=1, inplace=True)\n",
    "blankIndex=[''] * len(df)\n",
    "df.index=blankIndex\n",
    "static_value = df2.iloc[0,0]\n",
    "print(static_value)\n",
    "df['total_count'] = static_value\n",
    "df['ratio'] = df.computer_count.astype(str) + \" out of \" + df.total_count.astype(str) + \" computers\"\n",
    "df['percentage %'] = df.computer_count.mul(1.0).div(df.total_count).mul(100).round(2)\n",
    "display(df)\n",
    "\n"
   ]
  },
  {
   "cell_type": "markdown",
   "metadata": {
    "collapsed": false,
    "jupyter": {
     "outputs_hidden": false
    }
   },
   "source": [
    "<font size='5'>3a. Report which admin computers have logins on or later than May 2023, have **Python** installed on their computers and whose IP addresses are not in the IP whitelist table. Be sure to include the computer name, IP address and login timestamp; order the results by most recent date and computer name.</font>"
   ]
  },
  {
   "cell_type": "code",
   "execution_count": 234,
   "metadata": {
    "ExecuteTime": {
     "end_time": "2024-01-25T16:23:26.589982900Z",
     "start_time": "2024-01-25T16:23:26.575229100Z"
    },
    "collapsed": false,
    "jupyter": {
     "outputs_hidden": false
    }
   },
   "outputs": [
    {
     "data": {
      "text/html": [
       "<div>\n",
       "<style scoped>\n",
       "    .dataframe tbody tr th:only-of-type {\n",
       "        vertical-align: middle;\n",
       "    }\n",
       "\n",
       "    .dataframe tbody tr th {\n",
       "        vertical-align: top;\n",
       "    }\n",
       "\n",
       "    .dataframe thead th {\n",
       "        text-align: right;\n",
       "    }\n",
       "</style>\n",
       "<table border=\"1\" class=\"dataframe\">\n",
       "  <thead>\n",
       "    <tr style=\"text-align: right;\">\n",
       "      <th></th>\n",
       "      <th>computer_name</th>\n",
       "      <th>login_ip</th>\n",
       "      <th>login_timestamp</th>\n",
       "      <th>computer_type</th>\n",
       "      <th>program_name</th>\n",
       "    </tr>\n",
       "  </thead>\n",
       "  <tbody>\n",
       "    <tr>\n",
       "      <th>0</th>\n",
       "      <td>PLAINCORP-13</td>\n",
       "      <td>73.18.119.169</td>\n",
       "      <td>2023-07-19 15:56:45</td>\n",
       "      <td>Admin</td>\n",
       "      <td>Python 3.11.4 Core Interpreter (64-bit)</td>\n",
       "    </tr>\n",
       "    <tr>\n",
       "      <th>1</th>\n",
       "      <td>DESKTOP-AFKOOLQ</td>\n",
       "      <td>75.19.119.2</td>\n",
       "      <td>2023-06-20 15:00:10</td>\n",
       "      <td>Admin</td>\n",
       "      <td>Python 2.7.13 (64-bit)</td>\n",
       "    </tr>\n",
       "  </tbody>\n",
       "</table>\n",
       "</div>"
      ],
      "text/plain": [
       "     computer_name       login_ip      login_timestamp computer_type  \\\n",
       "0     PLAINCORP-13  73.18.119.169  2023-07-19 15:56:45         Admin   \n",
       "1  DESKTOP-AFKOOLQ    75.19.119.2  2023-06-20 15:00:10         Admin   \n",
       "\n",
       "                              program_name  \n",
       "0  Python 3.11.4 Core Interpreter (64-bit)  \n",
       "1                   Python 2.7.13 (64-bit)  "
      ]
     },
     "metadata": {},
     "output_type": "display_data"
    }
   ],
   "source": [
    "df3 = pd.read_sql_query(\"SELECT lr.computer_name, lr.login_ip, lr.login_timestamp, c.computer_type, ip.program_name\" +\n",
    "\" FROM login_records lr\" +\n",
    "\" INNER JOIN (SELECT computer_name, computer_type\" + \n",
    "\t\t\" FROM computers\" + \n",
    "\t\t\" WHERE computer_type LIKE '%Admin%') c\" + \n",
    "\t\" ON lr.computer_name = c.computer_name\" + \n",
    "\t\" AND lr.login_timestamp >= '2023-05-01'\" + \n",
    "\" INNER JOIN (SELECT computer_name, program_name\" + \n",
    "\t\t\" FROM installed_programs\" + \n",
    "\t\t\" WHERE program_name LIKE '%python%') ip\" + \n",
    "\t\" ON c.computer_name = ip.computer_name\" + \n",
    "\" LEFT JOIN ip_whitelist wl\" + \n",
    "\t\" ON lr.login_ip = wl.login_ip\" + \n",
    "\" WHERE wl.login_ip IS NULL\" + \n",
    "\" GROUP BY c.computer_name\" +\n",
    "\" ORDER BY lr.login_timestamp DESC\", con)\n",
    "display(df3)"
   ]
  },
  {
   "cell_type": "markdown",
   "metadata": {
    "collapsed": false,
    "jupyter": {
     "outputs_hidden": false
    }
   },
   "source": [
    "<font size='5'>3b. Below are the requirements for the modifications you should make to the PD output from **3a**, you cannot change the SQL query to meet these requirements:</font>\n",
    "- <font size='5'>Replace the 2nd and 4th octets of the IP address with **\\*** (e.g., 10.\\*.0.\\*). Your solution must use regex.</font>\n",
    "- <font size='5'>Format the login timestamp as the date only (e.g., 01/20/2024)</font>\n"
   ]
  },
  {
   "cell_type": "code",
   "execution_count": 299,
   "metadata": {
    "ExecuteTime": {
     "end_time": "2024-01-25T16:23:26.617176400Z",
     "start_time": "2024-01-25T16:23:26.590980200Z"
    },
    "collapsed": false,
    "jupyter": {
     "outputs_hidden": false
    }
   },
   "outputs": [
    {
     "data": {
      "text/html": [
       "<div>\n",
       "<style scoped>\n",
       "    .dataframe tbody tr th:only-of-type {\n",
       "        vertical-align: middle;\n",
       "    }\n",
       "\n",
       "    .dataframe tbody tr th {\n",
       "        vertical-align: top;\n",
       "    }\n",
       "\n",
       "    .dataframe thead th {\n",
       "        text-align: right;\n",
       "    }\n",
       "</style>\n",
       "<table border=\"1\" class=\"dataframe\">\n",
       "  <thead>\n",
       "    <tr style=\"text-align: right;\">\n",
       "      <th></th>\n",
       "      <th>computer_name</th>\n",
       "      <th>login_ip</th>\n",
       "      <th>login_timestamp</th>\n",
       "      <th>computer_type</th>\n",
       "      <th>program_name</th>\n",
       "    </tr>\n",
       "  </thead>\n",
       "  <tbody>\n",
       "    <tr>\n",
       "      <th>0</th>\n",
       "      <td>PLAINCORP-13</td>\n",
       "      <td>73.18.119.169</td>\n",
       "      <td>07/19/23</td>\n",
       "      <td>Admin</td>\n",
       "      <td>Python 3.11.4 Core Interpreter (64-bit)</td>\n",
       "    </tr>\n",
       "    <tr>\n",
       "      <th>1</th>\n",
       "      <td>DESKTOP-AFKOOLQ</td>\n",
       "      <td>75.19.119.2</td>\n",
       "      <td>06/20/23</td>\n",
       "      <td>Admin</td>\n",
       "      <td>Python 2.7.13 (64-bit)</td>\n",
       "    </tr>\n",
       "  </tbody>\n",
       "</table>\n",
       "</div>"
      ],
      "text/plain": [
       "     computer_name       login_ip login_timestamp computer_type  \\\n",
       "0     PLAINCORP-13  73.18.119.169        07/19/23         Admin   \n",
       "1  DESKTOP-AFKOOLQ    75.19.119.2        06/20/23         Admin   \n",
       "\n",
       "                              program_name  \n",
       "0  Python 3.11.4 Core Interpreter (64-bit)  \n",
       "1                   Python 2.7.13 (64-bit)  "
      ]
     },
     "metadata": {},
     "output_type": "display_data"
    },
    {
     "data": {
      "text/html": [
       "<div>\n",
       "<style scoped>\n",
       "    .dataframe tbody tr th:only-of-type {\n",
       "        vertical-align: middle;\n",
       "    }\n",
       "\n",
       "    .dataframe tbody tr th {\n",
       "        vertical-align: top;\n",
       "    }\n",
       "\n",
       "    .dataframe thead th {\n",
       "        text-align: right;\n",
       "    }\n",
       "</style>\n",
       "<table border=\"1\" class=\"dataframe\">\n",
       "  <thead>\n",
       "    <tr style=\"text-align: right;\">\n",
       "      <th></th>\n",
       "      <th>computer_name</th>\n",
       "      <th>login_ip</th>\n",
       "      <th>login_timestamp</th>\n",
       "      <th>computer_type</th>\n",
       "      <th>program_name</th>\n",
       "    </tr>\n",
       "  </thead>\n",
       "  <tbody>\n",
       "    <tr>\n",
       "      <th>0</th>\n",
       "      <td>PLAINCORP-13</td>\n",
       "      <td>73.*.119.*</td>\n",
       "      <td>07/19/23</td>\n",
       "      <td>Admin</td>\n",
       "      <td>Python 3.11.4 Core Interpreter (64-bit)</td>\n",
       "    </tr>\n",
       "    <tr>\n",
       "      <th>1</th>\n",
       "      <td>DESKTOP-AFKOOLQ</td>\n",
       "      <td>75.*.119.*</td>\n",
       "      <td>06/20/23</td>\n",
       "      <td>Admin</td>\n",
       "      <td>Python 2.7.13 (64-bit)</td>\n",
       "    </tr>\n",
       "  </tbody>\n",
       "</table>\n",
       "</div>"
      ],
      "text/plain": [
       "     computer_name    login_ip login_timestamp computer_type  \\\n",
       "0     PLAINCORP-13  73.*.119.*        07/19/23         Admin   \n",
       "1  DESKTOP-AFKOOLQ  75.*.119.*        06/20/23         Admin   \n",
       "\n",
       "                              program_name  \n",
       "0  Python 3.11.4 Core Interpreter (64-bit)  \n",
       "1                   Python 2.7.13 (64-bit)  "
      ]
     },
     "metadata": {},
     "output_type": "display_data"
    }
   ],
   "source": [
    "formatted_df = df3.copy(deep=True)\n",
    "formatted_df['login_timestamp'] = pd.to_datetime(formatted_df['login_timestamp']).dt.strftime('%m/%d/%y')\n",
    "display(formatted_df)\n",
    "pattern = r'(\\d+)\\.(\\d+)\\.(\\d+)\\.(\\d+)'\n",
    "formatted_df['login_ip'] = formatted_df['login_ip'].replace(pattern, r'\\1.*.\\3.*', regex=True)\n",
    "display(formatted_df)\n"
   ]
  },
  {
   "cell_type": "markdown",
   "metadata": {
    "collapsed": false,
    "jupyter": {
     "outputs_hidden": false
    }
   },
   "source": [
    "<font size='5'>4. Bob from the IT department noticed a SQL query was starting to get slow and since he knew a little bit of SQL from college, he decided to fix the query himself. The first thing Bob did was to reduce the number of unnecessary joins in the query, but the new query was still slow. Was Bob’s initial approach the correct one? If so, explain Bob's next steps? If not, explain what Bob should've done instead?</font>"
   ]
  },
  {
   "cell_type": "markdown",
   "metadata": {
    "ExecuteTime": {
     "end_time": "2024-01-25T16:23:26.638106Z",
     "start_time": "2024-01-25T16:23:26.606618800Z"
    },
    "collapsed": false,
    "jupyter": {
     "outputs_hidden": false
    }
   },
   "source": [
    "Bob was correct in his approach. Unnecessary joins can slow down queries quite a bit. The next step would be to reduce result set size by ensuring the tables being joined are only including necessary columns, and potentially limiting the final result set through filtering."
   ]
  },
  {
   "cell_type": "markdown",
   "metadata": {
    "collapsed": false,
    "jupyter": {
     "outputs_hidden": false
    }
   },
   "source": [
    "<font size='5'>5. To improve the CMS’s backend and report capabilities, the IT department wants to provide feedback to the contractor who built the CMS solution and wants your input.  How would you improve or change the data model? If you decide to create a data diagram you must save it as a PDF file in the same folder as this Jupyter Notebook.</font>"
   ]
  },
  {
   "cell_type": "code",
   "execution_count": null,
   "metadata": {
    "ExecuteTime": {
     "end_time": "2024-01-25T16:23:26.638106Z",
     "start_time": "2024-01-25T16:23:26.622082200Z"
    },
    "collapsed": false,
    "jupyter": {
     "outputs_hidden": false
    }
   },
   "outputs": [],
   "source": []
  },
  {
   "cell_type": "markdown",
   "metadata": {
    "collapsed": false,
    "jupyter": {
     "outputs_hidden": false
    }
   },
   "source": [
    "<font size='5'>6. Did you notice anything interesting or anything wrong with the data? If so, please describe what you found and if possible, provide any related evidence.</font>"
   ]
  },
  {
   "cell_type": "code",
   "execution_count": null,
   "metadata": {
    "ExecuteTime": {
     "end_time": "2024-01-25T16:23:26.660272600Z",
     "start_time": "2024-01-25T16:23:26.638106Z"
    },
    "collapsed": false,
    "jupyter": {
     "outputs_hidden": false
    }
   },
   "outputs": [],
   "source": []
  }
 ],
 "metadata": {
  "kernelspec": {
   "display_name": "Python 3 (ipykernel)",
   "language": "python",
   "name": "python3"
  },
  "language_info": {
   "codemirror_mode": {
    "name": "ipython",
    "version": 3
   },
   "file_extension": ".py",
   "mimetype": "text/x-python",
   "name": "python",
   "nbconvert_exporter": "python",
   "pygments_lexer": "ipython3",
   "version": "3.11.7"
  }
 },
 "nbformat": 4,
 "nbformat_minor": 4
}
